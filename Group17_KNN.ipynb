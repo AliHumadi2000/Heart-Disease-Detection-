{
 "cells": [
  {
   "cell_type": "code",
   "execution_count": null,
   "id": "01a88161",
   "metadata": {},
   "outputs": [],
   "source": [
    "import numpy as np # It provides a multidimensional array object,\n",
    "import pandas as pd # data wrangling and analysis\n",
    "from sklearn.model_selection import train_test_split"
   ]
  },
  {
   "cell_type": "code",
   "execution_count": null,
   "id": "7286a328",
   "metadata": {},
   "outputs": [],
   "source": [
    "# loading the csv data to a Pandas DataFrame\n",
    "df = pd.read_csv('https://raw.githubusercontent.com/AliHumadi2000/Heart-Disease-Detection-/main/heart.csv')"
   ]
  },
  {
   "cell_type": "code",
   "execution_count": null,
   "id": "f397cd57",
   "metadata": {},
   "outputs": [],
   "source": [
    "df.head()"
   ]
  },
  {
   "cell_type": "code",
   "execution_count": null,
   "id": "a6b98d2e",
   "metadata": {},
   "outputs": [],
   "source": [
    "#spliting data into freatures and target \n",
    "X = df.drop(columns='target', axis=1) # to drop column means axis = 1 and if it's for row then axis = 0\n",
    "Y = df['target']"
   ]
  },
  {
   "cell_type": "code",
   "execution_count": null,
   "id": "572e999b",
   "metadata": {},
   "outputs": [],
   "source": [
    "X"
   ]
  },
  {
   "cell_type": "code",
   "execution_count": null,
   "id": "db52c3f3",
   "metadata": {},
   "outputs": [],
   "source": [
    "Y"
   ]
  },
  {
   "cell_type": "code",
   "execution_count": null,
   "id": "55529e96",
   "metadata": {},
   "outputs": [],
   "source": [
    "import matplotlib.pyplot as plt"
   ]
  },
  {
   "cell_type": "code",
   "execution_count": null,
   "id": "1b728296",
   "metadata": {},
   "outputs": [],
   "source": [
    "df.head()"
   ]
  },
  {
   "cell_type": "code",
   "execution_count": null,
   "id": "2affb0b0",
   "metadata": {},
   "outputs": [],
   "source": [
    "#relation between age and ( Maximum Heart Rate,cholestroal and blood pleasue )\n",
    "plt.figure(figsize=(10,10))\n",
    "plt.subplot(2,2,1)\n",
    "plt.xlabel('age')\n",
    "plt.ylabel('\"Maximum Heart Rate')\n",
    "plt.scatter(x=df.age[df.target==1],y=df.thalach[(df.target==1)], c=\"red\",marker='*')\n",
    "plt.subplot(2,2,2)\n",
    "plt.xlabel('age')\n",
    "plt.ylabel('\"Cholestroal')\n",
    "plt.scatter(x=df.age[df.target==1],y=df.chol[(df.target==1)],color='blue',marker='.')\n",
    "plt.subplot(2,2,3)\n",
    "plt.xlabel('age')\n",
    "plt.ylabel('\"blood pleasure')\n",
    "plt.scatter(x=df.age[df.target==1],y=df.trestbps[(df.target==1)],color='green',marker='+')\n",
    "plt.subplot(2,2,4)\n",
    "plt.xlabel('age')\n",
    "plt.ylabel('\"blood pleasure')\n",
    "plt.scatter(x=df.age[df.target==1],y=df.thal[(df.target==1)],color='black',marker='_')\n",
    "plt.show()"
   ]
  },
  {
   "cell_type": "code",
   "execution_count": null,
   "id": "7ab13843",
   "metadata": {},
   "outputs": [],
   "source": [
    "#relation between age and ( Maximum Heart Rate,cholestroal and blood pleasue )\n",
    "plt.figure(figsize=(10,10))\n",
    "plt.subplot(2,2,1)\n",
    "plt.xlabel('age')\n",
    "plt.ylabel('\"Maximum Heart Rate')\n",
    "plt.scatter(x=df.age[df.target==0],y=df.thalach[(df.target==0)], c=\"red\",marker='*')\n",
    "plt.subplot(2,2,2)\n",
    "plt.xlabel('age')\n",
    "plt.ylabel('\"Cholestroal')\n",
    "plt.scatter(x=df.age[df.target==0],y=df.chol[(df.target==0)],color='blue',marker='.')\n",
    "plt.subplot(2,2,3)\n",
    "plt.xlabel('age')\n",
    "plt.ylabel('\"blood pleasure')\n",
    "plt.scatter(x=df.age[df.target==0],y=df.trestbps[(df.target==0)],color='green',marker='+')\n",
    "plt.subplot(2,2,4)\n",
    "plt.xlabel('age')\n",
    "plt.ylabel('\"blood pleasure')\n",
    "plt.scatter(x=df.age[df.target==0],y=df.thal[(df.target==0)],color='black',marker='_')\n",
    "plt.show()"
   ]
  },
  {
   "cell_type": "code",
   "execution_count": null,
   "id": "95d2b3de",
   "metadata": {},
   "outputs": [],
   "source": [
    "X_train,X_test,Y_train,Y_test=train_test_split(X,Y,stratify=Y,test_size=0.2,random_state=40)"
   ]
  },
  {
   "cell_type": "code",
   "execution_count": null,
   "id": "8b5a7864",
   "metadata": {},
   "outputs": [],
   "source": [
    "from sklearn.neighbors import KNeighborsClassifier"
   ]
  },
  {
   "cell_type": "code",
   "execution_count": null,
   "id": "82258946",
   "metadata": {},
   "outputs": [],
   "source": [
    "knn=KNeighborsClassifier(n_neighbors=12)"
   ]
  },
  {
   "cell_type": "code",
   "execution_count": null,
   "id": "6404f366",
   "metadata": {},
   "outputs": [],
   "source": [
    "knn.fit(X_train,Y_train)"
   ]
  },
  {
   "cell_type": "code",
   "execution_count": null,
   "id": "1c8eca7e",
   "metadata": {},
   "outputs": [],
   "source": [
    "knn.score(X_test,Y_test)"
   ]
  },
  {
   "cell_type": "code",
   "execution_count": null,
   "id": "e2d115ee",
   "metadata": {},
   "outputs": [],
   "source": [
    "x_pred=knn.predict(X_test)\n",
    "x_pred"
   ]
  },
  {
   "cell_type": "code",
   "execution_count": null,
   "id": "f32847ea",
   "metadata": {},
   "outputs": [],
   "source": [
    "from sklearn.metrics import classification_report"
   ]
  },
  {
   "cell_type": "code",
   "execution_count": null,
   "id": "9bf812ab",
   "metadata": {},
   "outputs": [],
   "source": [
    "print(classification_report(Y_test,x_pred))"
   ]
  }
 ],
 "metadata": {
  "kernelspec": {
   "display_name": "Python 3",
   "language": "python",
   "name": "python3"
  },
  "language_info": {
   "codemirror_mode": {
    "name": "ipython",
    "version": 3
   },
   "file_extension": ".py",
   "mimetype": "text/x-python",
   "name": "python",
   "nbconvert_exporter": "python",
   "pygments_lexer": "ipython3",
   "version": "3.8.8"
  }
 },
 "nbformat": 4,
 "nbformat_minor": 5
}
