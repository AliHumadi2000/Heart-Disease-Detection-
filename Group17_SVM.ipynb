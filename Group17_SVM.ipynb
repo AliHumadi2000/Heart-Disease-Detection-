{
 "cells": [
  {
   "cell_type": "markdown",
   "id": "d18a8bd4",
   "metadata": {},
   "source": [
    "# lodaing necesssery libraries "
   ]
  },
  {
   "cell_type": "code",
   "execution_count": null,
   "id": "f05faf11",
   "metadata": {},
   "outputs": [],
   "source": [
    "import pandas as pd\n",
    "import matplotlib.pyplot as plt\n",
    "from sklearn.model_selection import train_test_split\n",
    "from sklearn import svm"
   ]
  },
  {
   "cell_type": "code",
   "execution_count": null,
   "id": "fa70d5ce",
   "metadata": {},
   "outputs": [],
   "source": [
    "# loading the csv data to a Pandas DataFrame\n",
    "df = pd.read_csv('https://raw.githubusercontent.com/AliHumadi2000/Heart-Disease-Detection-/main/heart.csv')"
   ]
  },
  {
   "cell_type": "code",
   "execution_count": null,
   "id": "5264ba79",
   "metadata": {},
   "outputs": [],
   "source": [
    "df.head()\n"
   ]
  },
  {
   "cell_type": "code",
   "execution_count": null,
   "id": "35278c46",
   "metadata": {},
   "outputs": [],
   "source": [
    "#split data into train and test model \n",
    "# we have on target and the remaining is indepenent \n",
    "x_vars=df.drop(columns='target',axis=1)\n",
    "target=df['target']"
   ]
  },
  {
   "cell_type": "code",
   "execution_count": null,
   "id": "051c5da5",
   "metadata": {},
   "outputs": [],
   "source": [
    "#chek if our data already splited \n",
    "print(x_vars.shape)\n",
    "print(target.shape)"
   ]
  },
  {
   "cell_type": "code",
   "execution_count": null,
   "id": "8aa3ce7b",
   "metadata": {},
   "outputs": [],
   "source": [
    "X_train,X_test,Y_train,Y_test=train_test_split(x_vars,target,test_size=0.2,random_state=40)"
   ]
  },
  {
   "cell_type": "code",
   "execution_count": null,
   "id": "dcc04e75",
   "metadata": {},
   "outputs": [],
   "source": [
    "#check the shape of train and test "
   ]
  },
  {
   "cell_type": "code",
   "execution_count": null,
   "id": "411e49c6",
   "metadata": {},
   "outputs": [],
   "source": [
    "print(X_train.shape,X_test.shape,Y_train.shape,Y_test.shape)"
   ]
  },
  {
   "cell_type": "code",
   "execution_count": null,
   "id": "b84fa979",
   "metadata": {},
   "outputs": [],
   "source": [
    "model=svm.SVC(kernel='linear')\n",
    "model.fit(X_train,Y_train)"
   ]
  },
  {
   "cell_type": "code",
   "execution_count": null,
   "id": "64ba026c",
   "metadata": {},
   "outputs": [],
   "source": [
    "# \n",
    "pred=model.predict(X_test)\n",
    "pred"
   ]
  },
  {
   "cell_type": "code",
   "execution_count": null,
   "id": "76b267a5",
   "metadata": {},
   "outputs": [],
   "source": [
    "model.score(X_test,Y_test)"
   ]
  },
  {
   "cell_type": "code",
   "execution_count": null,
   "id": "3a156743",
   "metadata": {},
   "outputs": [],
   "source": [
    "from sklearn.metrics import classification_report"
   ]
  },
  {
   "cell_type": "code",
   "execution_count": null,
   "id": "6eccd1fa",
   "metadata": {},
   "outputs": [],
   "source": [
    "print(classification_report(Y_test,pred))"
   ]
  },
  {
   "cell_type": "code",
   "execution_count": null,
   "id": "d0b19b54",
   "metadata": {},
   "outputs": [],
   "source": [
    "from sklearn import metrics\n",
    "import numpy as np"
   ]
  },
  {
   "cell_type": "code",
   "execution_count": null,
   "id": "3fa0928e",
   "metadata": {},
   "outputs": [],
   "source": [
    "print(\"Accuracy is \",metrics.accuracy_score(Y_test,y_pred=pred)*100)\n",
    "print(\"precision is \",metrics.precision_score(Y_test,y_pred=pred)*100)"
   ]
  },
  {
   "cell_type": "markdown",
   "id": "e7e534b9",
   "metadata": {},
   "source": [
    "# predicition from uer input"
   ]
  },
  {
   "cell_type": "code",
   "execution_count": null,
   "id": "ea929268",
   "metadata": {},
   "outputs": [],
   "source": [
    "l=[[63,1,3,145,233,1,0,150,0,2.3,0,0,1],[57,0,0,140,241,0,1,123,1,0.2,1,0,3]]\n",
    "x_pr=np.asarray(l[1])\n",
    "final=x_pr.reshape(1,-1)\n",
    "pre=model.predict(final)"
   ]
  },
  {
   "cell_type": "code",
   "execution_count": null,
   "id": "7b2b7657",
   "metadata": {},
   "outputs": [],
   "source": [
    "\n",
    "final = \"has disease\" if pre==1 else \"has no diseas\"\n",
    "final"
   ]
  }
 ],
 "metadata": {
  "kernelspec": {
   "display_name": "Python 3",
   "language": "python",
   "name": "python3"
  },
  "language_info": {
   "codemirror_mode": {
    "name": "ipython",
    "version": 3
   },
   "file_extension": ".py",
   "mimetype": "text/x-python",
   "name": "python",
   "nbconvert_exporter": "python",
   "pygments_lexer": "ipython3",
   "version": "3.8.8"
  }
 },
 "nbformat": 4,
 "nbformat_minor": 5
}
